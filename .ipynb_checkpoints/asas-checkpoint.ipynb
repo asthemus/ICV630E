{
 "cells": [
  {
   "cell_type": "code",
   "execution_count": 5,
   "metadata": {},
   "outputs": [],
   "source": [
    "import cv2\n",
    "from scipy import ndimage as ndi\n",
    "import numpy as np\n",
    "offset = 1\n",
    "\n",
    "filename = 'input_1.jpg'\n",
    "img = cv2.imread(filename)\n",
    "gray = cv2.cvtColor(img,cv2.COLOR_BGR2GRAY)\n",
    "\n",
    "imggray = np.float32(gray)\n",
    "height = len(imggray)\n",
    "width = len(imggray[0])\n",
    "from scipy import signal as sig\n",
    "\n",
    "def gradient_x(imggray):\n",
    "    ##Sobel operator kernels.\n",
    "    kernel_x = np.array([[-1, 0, 1],[-2, 0, 2],[-1, 0, 1]])\n",
    "    return sig.convolve2d(imggray, kernel_x, mode='same')\n",
    "def gradient_y(imggray):\n",
    "    kernel_y = np.array([[1, 2, 1], [0, 0, 0], [-1, -2, -1]])\n",
    "    return sig.convolve2d(imggray, kernel_y, mode='same')\n",
    "I_x = gradient_x(imggray)\n",
    "I_y = gradient_y(imggray)\n",
    "Ixx = ndi.gaussian_filter(I_x**2, sigma=1)\n",
    "Ixy = ndi.gaussian_filter(I_y*I_x, sigma=1)\n",
    "Iyy = ndi.gaussian_filter(I_y**2, sigma=1)\n",
    "# determinant\n",
    "detA = Ixx * Iyy - Ixy ** 2\n",
    "# trace\n",
    "traceA = Ixx + Iyy\n",
    "   \n",
    "harris_response = detA - k * traceA ** 2\n",
    "for y in range(offset, height-offset):\n",
    "    for x in range(offset, width-offset):\n",
    "        Sxx = np.sum(Ixx[y-offset:y+1+offset, x-offset:x+1+offset])\n",
    "        Syy = np.sum(Iyy[y-offset:y+1+offset, x-offset:x+1+offset])\n",
    "        Sxy = np.sum(Ixy[y-offset:y+1+offset, x-offset:x+1+offset])\n",
    "       \n",
    "img_copy_for_corners = np.copy(img)\n",
    "img_copy_for_edges = np.copy(img)\n",
    "for rowindex, response in enumerate(harris_response):\n",
    "    for colindex, r in enumerate(response):\n",
    "        if r > 0:\n",
    "            # this is a corner\n",
    "            img_copy_for_corners[rowindex, colindex] = [255,0,0]\n",
    "        elif r < 0:\n",
    "            # this is an edge\n",
    "            img_copy_for_edges[rowindex, colindex] = [0,255,0]\n",
    "            \n",
    "cv2.imshow('image',img_copy_for_corners)\n",
    "cv2.waitKey(0)\n",
    "cv2.destroyAllWindows()            "
   ]
  },
  {
   "cell_type": "code",
   "execution_count": 6,
   "metadata": {},
   "outputs": [],
   "source": []
  },
  {
   "cell_type": "code",
   "execution_count": null,
   "metadata": {},
   "outputs": [],
   "source": []
  }
 ],
 "metadata": {
  "kernelspec": {
   "display_name": "Python 3",
   "language": "python",
   "name": "python3"
  },
  "language_info": {
   "codemirror_mode": {
    "name": "ipython",
    "version": 3
   },
   "file_extension": ".py",
   "mimetype": "text/x-python",
   "name": "python",
   "nbconvert_exporter": "python",
   "pygments_lexer": "ipython3",
   "version": "3.6.9"
  }
 },
 "nbformat": 4,
 "nbformat_minor": 2
}
